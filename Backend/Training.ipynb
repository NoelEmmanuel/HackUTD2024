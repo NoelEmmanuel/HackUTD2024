{
 "cells": [
  {
   "cell_type": "code",
   "execution_count": 2,
   "metadata": {},
   "outputs": [
    {
     "name": "stdout",
     "output_type": "stream",
     "text": [
      "Processed file saved to: C:/Users/noele/Documents/GitHub/HackUTD2024/Backend/Boldv2.csv\n"
     ]
    }
   ],
   "source": [
    "import pandas as pd\n",
    "import numpy as np\n",
    "from sklearn.model_selection import train_test_split\n",
    "from sklearn.linear_model import LogisticRegression \n",
    "import convertUseful as cU\n",
    "# Import other libraries as needed"
   ]
  },
  {
   "cell_type": "code",
   "execution_count": 17,
   "metadata": {},
   "outputs": [
    {
     "name": "stdout",
     "output_type": "stream",
     "text": [
      "Processed file saved to: C:/Users/noele/Documents/GitHub/HackUTD2024/Backend/Datasets/Valiant_v2.csv\n"
     ]
    }
   ],
   "source": [
    "fName = input(\"Enter file\")\n",
    "wellName = input(\"Enter well name\")\n",
    "input_file = f'C:/Users/noele/Documents/GitHub/HackUTD2024/Backend/Datasets/{fName}.csv'\n",
    "output_file = f'C:/Users/noele/Documents/GitHub/HackUTD2024/Backend/Datasets/{wellName}_v2.csv'\n",
    "cU.process_csv(input_file,output_file)"
   ]
  }
 ],
 "metadata": {
  "kernelspec": {
   "display_name": "Python 3",
   "language": "python",
   "name": "python3"
  },
  "language_info": {
   "codemirror_mode": {
    "name": "ipython",
    "version": 3
   },
   "file_extension": ".py",
   "mimetype": "text/x-python",
   "name": "python",
   "nbconvert_exporter": "python",
   "pygments_lexer": "ipython3",
   "version": "3.11.6"
  }
 },
 "nbformat": 4,
 "nbformat_minor": 2
}
